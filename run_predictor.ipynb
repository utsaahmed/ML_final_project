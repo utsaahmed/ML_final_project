# Libraries to import
import pickle
import pandas as pd
import unittest

# Using the stored variables from the file ML_Models.ipynb
%store -r 

def ML(gender, team1, team2, city, overs, team1_toss_win, team1_bat):
    # Invalid user inputs:
    if city not in mapping_city:
        city = city.title()
        if city not in mapping_city:
            city = "NA"
    if team1 not in mapping_team1:
        team1 = team1.title()
        if team1 not in mapping_team1:
            print("Team 1 is not in our database")
    if team2 not in mapping_team2:
        team2 = team2.title()
        if team2 not in mapping_team2:
            print("Team 2 is not in our database")
    try:
        if (gender.lower() != 'male') & (gender.lower() != 'female'):
            raise ValueError("Incorrect gender input.")
        if (team1_toss_win != 0) & (team1_toss_win != 1):
            raise ValueError("Incorrect toss input.")
        if (team1_bat != 0) & (team1_bat != 1):
            raise ValueError("Incorrect choice input.")
    except ValueError:
        print("Value Error Raised.")
        
    try:
        # Encoding the data from the dicts of the ML_Models file, to be used for prediction    
        values = [[mapping_gender[gender.lower()], mapping_team1[team1], mapping_team2[team2], mapping_city[city], overs,team1_toss_win, team1_bat]]
        x = pd.DataFrame(values, columns =['Gender', 'Team1', 'Team2', 'City', 'Overs', 'Team1_Toss_Win', 'Team1_Bat']) 
    except KeyError:
        pass


    # Prediction:
    try:
        loaded_model = pickle.load(open("finalized_model.sav", 'rb')) # XGBoost model from the ML_Models file
        result = loaded_model.predict(x) # Prediction
        # Decoding the result
        if result == 0:
            print(team2,"has won the game.")
        elif result == 1:
            print(team1,"has won the game.")
        elif result == 2:
            print("The game resulted in a draw.")
    except NameError:
        print("The inputs provided were out of the scope of our data.")
        
        
        # User Input
city = input("Enter City from the following: \n{} : ".format(mapping_city.keys()))
gender = input("Gender- male/female : ").lower()
overs = int(input("Enter number of overs- 20/50 : "))
team1 = input("Enter Team 1 from the following: \n{} : ".format(mapping_team1.keys()))
team2 = input("Enter Team 2 from the following: \n{} : ".format(mapping_team2.keys()))
team1_toss_win = int(input("Who won the toss? 0- {}, 1- {} : ".format(team2, team1)))
team1_bat = int(input("Who is batting first? 0- {}, 1- {} : ".format(team2, team1)))


ML(gender, team1, team2, city, overs, team1_toss_win, team1_bat)

# The test class with the test function containing the assertions:
class Test(unittest.TestCase):
  def test_func(self):
    
    # 'asia' out of the provided list of team 1s
    print("\nAssertion 1:")
    self.assertRaises(KeyError, ML('male', 'afghanistan', 'asia', 'mirpur', 20, 1, 1))
    
    # 'antarctica' out of team 2 list and thus testing array is not initialized leading to name error
    print("Assertion 2:")
    self.assertRaises(NameError, ML('female', 'antarctica', 'india', 'cardiff', 50, 0, 1))
    
    # only possible values for team 1 batting are 0 or 1, but we are giving '2' as the input here
    print("Assertion 3:")
    self.assertRaises(ValueError, ML('male', 'Australia', 'India', 'Napier', 20, 1, 2))
    
    # only possible values for toss winner are 0 or 1, but we are giving '3' as the input here
    print("Assertion 4:")
    self.assertRaises(ValueError, ML('female', 'pAkistan', 'england', 'colombo', 20, 3, 0))
    
    # only possible values for gender in our dataset are 'male' or 'female'
    print("Assertion 5:")
    self.assertRaises(ValueError, ML('mal', 'Australia', 'India', 'Napier', 50, 1, 0))
    
    # Test:
if __name__ == '__main__':
  unittest.main(argv=['first-arg-is-ignored'], exit=False)
  
  
